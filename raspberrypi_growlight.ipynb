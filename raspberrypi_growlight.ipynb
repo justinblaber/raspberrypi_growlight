{
 "cells": [
  {
   "cell_type": "code",
   "execution_count": null,
   "metadata": {},
   "outputs": [],
   "source": [
    "# default_exp raspberrypi_growlight"
   ]
  },
  {
   "cell_type": "markdown",
   "metadata": {},
   "source": [
    "This is a simple bare-bones webserver run on my raspberry pi to turn my dwarf citrus tree's grow light on at sunrise and off at sunset."
   ]
  },
  {
   "cell_type": "markdown",
   "metadata": {},
   "source": [
    "# Imports"
   ]
  },
  {
   "cell_type": "code",
   "execution_count": null,
   "metadata": {},
   "outputs": [],
   "source": [
    "# export\n",
    "import datetime\n",
    "import sys\n",
    "import time\n",
    "\n",
    "import apscheduler.schedulers.background\n",
    "import astral\n",
    "import astral.sun\n",
    "import pytz\n",
    "import RPi.GPIO as GPIO\n",
    "from flask import Flask"
   ]
  },
  {
   "cell_type": "markdown",
   "metadata": {},
   "source": [
    "# Config"
   ]
  },
  {
   "cell_type": "markdown",
   "metadata": {},
   "source": [
    "### Raspberry Pi"
   ]
  },
  {
   "cell_type": "code",
   "execution_count": null,
   "metadata": {},
   "outputs": [],
   "source": [
    "# export\n",
    "PIN_GPIO = 17\n",
    "GPIO.setwarnings(False)\n",
    "GPIO.setmode(GPIO.BCM)         # Broadcom Chip\n",
    "GPIO.setup(PIN_GPIO, GPIO.OUT) # Output "
   ]
  },
  {
   "cell_type": "markdown",
   "metadata": {},
   "source": [
    "Test out gpio stuff manually"
   ]
  },
  {
   "cell_type": "code",
   "execution_count": null,
   "metadata": {},
   "outputs": [],
   "source": [
    "GPIO.output(PIN_GPIO, True)"
   ]
  },
  {
   "cell_type": "code",
   "execution_count": null,
   "metadata": {},
   "outputs": [],
   "source": [
    "GPIO.output(PIN_GPIO, False)"
   ]
  },
  {
   "cell_type": "markdown",
   "metadata": {},
   "source": [
    "### Timezone"
   ]
  },
  {
   "cell_type": "markdown",
   "metadata": {},
   "source": [
    "Needed to localize `datetime.now()`"
   ]
  },
  {
   "cell_type": "code",
   "execution_count": null,
   "metadata": {},
   "outputs": [],
   "source": [
    "# export\n",
    "TIMEZONE = pytz.timezone('US/Eastern')"
   ]
  },
  {
   "cell_type": "markdown",
   "metadata": {},
   "source": [
    "### Server"
   ]
  },
  {
   "cell_type": "markdown",
   "metadata": {},
   "source": [
    "Set interval in seconds to check schedule"
   ]
  },
  {
   "cell_type": "code",
   "execution_count": null,
   "metadata": {},
   "outputs": [],
   "source": [
    "# export\n",
    "INTERVAL = 1"
   ]
  },
  {
   "cell_type": "markdown",
   "metadata": {},
   "source": [
    "# `Growlight`"
   ]
  },
  {
   "cell_type": "markdown",
   "metadata": {},
   "source": [
    "Growlight `on()` will turn on grow light and `off()` will turn off grow light"
   ]
  },
  {
   "cell_type": "code",
   "execution_count": null,
   "metadata": {},
   "outputs": [],
   "source": [
    "# export\n",
    "class Growlight:\n",
    "    def on(self):\n",
    "        GPIO.output(PIN_GPIO, True)\n",
    "    \n",
    "    def off(self):\n",
    "        GPIO.output(PIN_GPIO, False)"
   ]
  },
  {
   "cell_type": "markdown",
   "metadata": {},
   "source": [
    "Test to see if growlight turns on and off"
   ]
  },
  {
   "cell_type": "code",
   "execution_count": null,
   "metadata": {},
   "outputs": [],
   "source": [
    "growlight = Growlight()"
   ]
  },
  {
   "cell_type": "code",
   "execution_count": null,
   "metadata": {},
   "outputs": [],
   "source": [
    "growlight.on()"
   ]
  },
  {
   "cell_type": "code",
   "execution_count": null,
   "metadata": {},
   "outputs": [],
   "source": [
    "time.sleep(1)"
   ]
  },
  {
   "cell_type": "code",
   "execution_count": null,
   "metadata": {},
   "outputs": [],
   "source": [
    "growlight.off()"
   ]
  },
  {
   "cell_type": "markdown",
   "metadata": {},
   "source": [
    "# `Schedule`"
   ]
  },
  {
   "cell_type": "markdown",
   "metadata": {},
   "source": [
    "Given an input time, `Schedule` will return `'ON'` if grow light should be on and `'OFF'` if growlight should be off"
   ]
  },
  {
   "cell_type": "code",
   "execution_count": null,
   "metadata": {},
   "outputs": [],
   "source": [
    "# export\n",
    "class Schedule:\n",
    "    def get_status(T):\n",
    "        return 'OFF' "
   ]
  },
  {
   "cell_type": "markdown",
   "metadata": {},
   "source": [
    "Sunlight schedule will turn on during sunlight"
   ]
  },
  {
   "cell_type": "code",
   "execution_count": null,
   "metadata": {},
   "outputs": [],
   "source": [
    "# export\n",
    "class SunlightSchedule(Schedule):\n",
    "    def __init__(self, city):\n",
    "        self.city = city\n",
    "        \n",
    "    def get_status(self, T):\n",
    "        s = astral.sun.sun(self.city.observer) # Get current status of sun\n",
    "        if s['sunrise'] < T < s['sunset']: return 'ON'\n",
    "        else:                              return 'OFF'\n",
    "    \n",
    "    def __repr__(self):\n",
    "        return f'sunlight schedule for {self.city.name}.'"
   ]
  },
  {
   "cell_type": "markdown",
   "metadata": {},
   "source": [
    "Make a schedule based on lowell "
   ]
  },
  {
   "cell_type": "code",
   "execution_count": null,
   "metadata": {},
   "outputs": [],
   "source": [
    "# export\n",
    "class LowellSunlightSchedule(SunlightSchedule):\n",
    "    def __init__(self):\n",
    "        super().__init__(city=astral.LocationInfo(name='Lowell',\n",
    "                                                  region='USA',\n",
    "                                                  timezone='Eastern',\n",
    "                                                  latitude=42.640999,  \n",
    "                                                  longitude=-71.316711))"
   ]
  },
  {
   "cell_type": "markdown",
   "metadata": {},
   "source": [
    "Test out schedule"
   ]
  },
  {
   "cell_type": "code",
   "execution_count": null,
   "metadata": {},
   "outputs": [
    {
     "data": {
      "text/plain": [
       "sunlight schedule for Lowell."
      ]
     },
     "execution_count": null,
     "metadata": {},
     "output_type": "execute_result"
    }
   ],
   "source": [
    "schedule = LowellSunlightSchedule()\n",
    "schedule"
   ]
  },
  {
   "cell_type": "code",
   "execution_count": null,
   "metadata": {},
   "outputs": [
    {
     "data": {
      "text/plain": [
       "'ON'"
      ]
     },
     "execution_count": null,
     "metadata": {},
     "output_type": "execute_result"
    }
   ],
   "source": [
    "T = TIMEZONE.localize(datetime.datetime.now())\n",
    "schedule.get_status(T)"
   ]
  },
  {
   "cell_type": "markdown",
   "metadata": {},
   "source": [
    "Add some time to see if scheduler works"
   ]
  },
  {
   "cell_type": "code",
   "execution_count": null,
   "metadata": {},
   "outputs": [
    {
     "data": {
      "text/plain": [
       "'OFF'"
      ]
     },
     "execution_count": null,
     "metadata": {},
     "output_type": "execute_result"
    }
   ],
   "source": [
    "schedule.get_status(T + datetime.timedelta(hours=10))"
   ]
  },
  {
   "cell_type": "markdown",
   "metadata": {},
   "source": [
    "# `GrowlightScheduler`"
   ]
  },
  {
   "cell_type": "markdown",
   "metadata": {},
   "source": [
    "Given a `Schedule` and a `GrowLight`, `GrowlightScheduler` will turn on or off the growlight based on the schedule at a given `interval`."
   ]
  },
  {
   "cell_type": "code",
   "execution_count": null,
   "metadata": {},
   "outputs": [],
   "source": [
    "# export\n",
    "class GrowlightScheduler:\n",
    "    def __init__(self, schedule, growlight, interval=INTERVAL):\n",
    "        self.schedule  = schedule\n",
    "        self.growlight = growlight\n",
    "        self.interval  = interval\n",
    "        self.scheduler = apscheduler.schedulers.background.BackgroundScheduler()\n",
    "        self.scheduler.add_job(self.job, 'interval', seconds=self.interval)\n",
    "        \n",
    "    def job(self):\n",
    "        T = TIMEZONE.localize(datetime.datetime.now())\n",
    "        status = self.schedule.get_status(T)\n",
    "        if   status == 'ON':  self.growlight.on()\n",
    "        elif status == 'OFF': self.growlight.off()\n",
    "        else:                 raise RuntimeError(f'Unknown status: {status}')\n",
    "    \n",
    "    def start(self):\n",
    "        if self.scheduler.running: self.scheduler.resume()\n",
    "        else:                      self.scheduler.start()    \n",
    "        \n",
    "    def stop(self):\n",
    "        if self.scheduler.running: self.scheduler.pause()"
   ]
  },
  {
   "cell_type": "code",
   "execution_count": null,
   "metadata": {},
   "outputs": [],
   "source": [
    "schedule = LowellSunlightSchedule()\n",
    "growlight = Growlight()\n",
    "scheduler_growlight = GrowlightScheduler(schedule, growlight)"
   ]
  },
  {
   "cell_type": "code",
   "execution_count": null,
   "metadata": {},
   "outputs": [],
   "source": [
    "scheduler_growlight.start()"
   ]
  },
  {
   "cell_type": "code",
   "execution_count": null,
   "metadata": {},
   "outputs": [],
   "source": [
    "scheduler_growlight.stop()"
   ]
  },
  {
   "cell_type": "code",
   "execution_count": null,
   "metadata": {},
   "outputs": [],
   "source": [
    "growlight.off()"
   ]
  },
  {
   "cell_type": "markdown",
   "metadata": {},
   "source": [
    "# Flask app"
   ]
  },
  {
   "cell_type": "markdown",
   "metadata": {},
   "source": [
    "Create flask app with the following API:\n",
    "\n",
    "* `ON`     - shutsdown scheduler and turns growlight on\n",
    "* `OFF`    - shutsdown scheduler and turns growlight off\n",
    "* `START`  - starts scheduler\n",
    "* `STOP`   - stops scheduler\n",
    "* `STATUS` - returns current status"
   ]
  },
  {
   "cell_type": "code",
   "execution_count": null,
   "metadata": {},
   "outputs": [],
   "source": [
    "# export\n",
    "app = Flask(__name__)\n",
    "schedule = LowellSunlightSchedule()\n",
    "growlight = Growlight()\n",
    "scheduler_growlight = GrowlightScheduler(schedule, growlight)\n",
    "STATUS = None"
   ]
  },
  {
   "cell_type": "code",
   "execution_count": null,
   "metadata": {},
   "outputs": [],
   "source": [
    "# export\n",
    "def _status():\n",
    "    return f'Growlight status: {STATUS}'"
   ]
  },
  {
   "cell_type": "code",
   "execution_count": null,
   "metadata": {},
   "outputs": [],
   "source": [
    "# export\n",
    "@app.route('/ON/', methods=['GET'])\n",
    "def ON():\n",
    "    global STATUS\n",
    "    scheduler_growlight.stop()\n",
    "    growlight.on()\n",
    "    STATUS = 'ON'\n",
    "    return _status()"
   ]
  },
  {
   "cell_type": "code",
   "execution_count": null,
   "metadata": {},
   "outputs": [],
   "source": [
    "# export\n",
    "@app.route('/OFF/', methods=['GET'])\n",
    "def OFF():\n",
    "    global STATUS\n",
    "    scheduler_growlight.stop()\n",
    "    growlight.off()\n",
    "    STATUS = 'OFF'\n",
    "    return _status()"
   ]
  },
  {
   "cell_type": "code",
   "execution_count": null,
   "metadata": {},
   "outputs": [],
   "source": [
    "# export\n",
    "@app.route('/START/', methods=['GET'])\n",
    "def START():\n",
    "    global STATUS\n",
    "    scheduler_growlight.start()\n",
    "    STATUS = str(scheduler_growlight.schedule)\n",
    "    return _status()"
   ]
  },
  {
   "cell_type": "code",
   "execution_count": null,
   "metadata": {},
   "outputs": [],
   "source": [
    "# export\n",
    "@app.route('/STOP/', methods=['GET'])\n",
    "def PAUSE(): \n",
    "    global STATUS\n",
    "    scheduler_growlight.stop()\n",
    "    STATUS = 'stopped ' + str(scheduler_growlight.schedule)\n",
    "    return _status()"
   ]
  },
  {
   "cell_type": "code",
   "execution_count": null,
   "metadata": {},
   "outputs": [],
   "source": [
    "# export\n",
    "@app.route('/STATUS/', methods=['GET'])\n",
    "def STATUS():\n",
    "    return _status()"
   ]
  },
  {
   "cell_type": "markdown",
   "metadata": {},
   "source": [
    "For testing purposes change name"
   ]
  },
  {
   "cell_type": "code",
   "execution_count": null,
   "metadata": {},
   "outputs": [],
   "source": [
    "__name__ = '__notebook__'"
   ]
  },
  {
   "cell_type": "markdown",
   "metadata": {},
   "source": [
    "By default, start grownlight scheduler when server starts up"
   ]
  },
  {
   "cell_type": "code",
   "execution_count": null,
   "metadata": {},
   "outputs": [],
   "source": [
    "# export\n",
    "if __name__ == '__main__':\n",
    "    START()\n",
    "    app.run(host='0.0.0.0', port=8080)"
   ]
  },
  {
   "cell_type": "markdown",
   "metadata": {},
   "source": [
    "# Build"
   ]
  },
  {
   "cell_type": "code",
   "execution_count": null,
   "metadata": {},
   "outputs": [
    {
     "name": "stdout",
     "output_type": "stream",
     "text": [
      "Converted raspberrypi_growlight.ipynb.\r\n"
     ]
    }
   ],
   "source": [
    "!nbdev_build_lib --fname raspberrypi_growlight.ipynb"
   ]
  },
  {
   "cell_type": "code",
   "execution_count": null,
   "metadata": {},
   "outputs": [
    {
     "name": "stdout",
     "output_type": "stream",
     "text": [
      "[NbConvertApp] Converting notebook raspberrypi_growlight.ipynb to markdown\n",
      "[NbConvertApp] Writing 6159 bytes to README.md\n"
     ]
    }
   ],
   "source": [
    "!jupyter nbconvert --to markdown --output README raspberrypi_growlight.ipynb"
   ]
  }
 ],
 "metadata": {
  "kernelspec": {
   "display_name": "Python 3",
   "language": "python",
   "name": "python3"
  }
 },
 "nbformat": 4,
 "nbformat_minor": 2
}
